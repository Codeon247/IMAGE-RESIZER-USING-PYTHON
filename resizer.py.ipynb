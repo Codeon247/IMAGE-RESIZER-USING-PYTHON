{
 "cells": [
  {
   "cell_type": "code",
   "execution_count": 1,
   "id": "7e04dd31",
   "metadata": {},
   "outputs": [
    {
     "name": "stdout",
     "output_type": "stream",
     "text": [
      "Requirement already satisfied: pillow in c:\\users\\pc\\anaconda3\\lib\\site-packages (9.4.0)Note: you may need to restart the kernel to use updated packages.\n",
      "\n"
     ]
    }
   ],
   "source": [
    "pip install pillow"
   ]
  },
  {
   "cell_type": "code",
   "execution_count": 3,
   "id": "592ceecc",
   "metadata": {},
   "outputs": [
    {
     "name": "stdout",
     "output_type": "stream",
     "text": [
      "enter width : 90\n",
      "enter height: 400\n",
      "Current size : (346, 347)\n"
     ]
    }
   ],
   "source": [
    "from PIL import Image \n",
    "\n",
    "def resize_image(sizel, size2) :\n",
    "    image = Image.open('gideon.jpg')\n",
    "\n",
    "    print(f\"Current size : {image.size}\" )\n",
    "    \n",
    "    resized_image = image.resize(( sizel, size2))\n",
    "    resized_image.show()\n",
    "\n",
    "    \n",
    "size1 = int(input(\"enter width : \"))\n",
    "size2 = int(input(\"enter height: \"))\n",
    "resize_image(size1, size2)\n"
   ]
  },
  {
   "cell_type": "code",
   "execution_count": null,
   "id": "2cbbf72e",
   "metadata": {},
   "outputs": [],
   "source": []
  },
  {
   "cell_type": "code",
   "execution_count": null,
   "id": "a0123105",
   "metadata": {},
   "outputs": [],
   "source": []
  }
 ],
 "metadata": {
  "kernelspec": {
   "display_name": "Python 3 (ipykernel)",
   "language": "python",
   "name": "python3"
  },
  "language_info": {
   "codemirror_mode": {
    "name": "ipython",
    "version": 3
   },
   "file_extension": ".py",
   "mimetype": "text/x-python",
   "name": "python",
   "nbconvert_exporter": "python",
   "pygments_lexer": "ipython3",
   "version": "3.10.9"
  }
 },
 "nbformat": 4,
 "nbformat_minor": 5
}
